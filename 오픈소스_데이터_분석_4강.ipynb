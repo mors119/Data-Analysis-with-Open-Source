{
  "nbformat": 4,
  "nbformat_minor": 0,
  "metadata": {
    "colab": {
      "provenance": [],
      "include_colab_link": true
    },
    "kernelspec": {
      "name": "python3",
      "display_name": "Python 3"
    },
    "language_info": {
      "name": "python"
    }
  },
  "cells": [
    {
      "cell_type": "markdown",
      "metadata": {
        "id": "view-in-github",
        "colab_type": "text"
      },
      "source": [
        "<a href=\"https://colab.research.google.com/github/mors119/Data-Analysis-with-Open-Source/blob/main/%EC%98%A4%ED%94%88%EC%86%8C%EC%8A%A4_%EB%8D%B0%EC%9D%B4%ED%84%B0_%EB%B6%84%EC%84%9D_4%EA%B0%95.ipynb\" target=\"_parent\"><img src=\"https://colab.research.google.com/assets/colab-badge.svg\" alt=\"Open In Colab\"/></a>"
      ]
    },
    {
      "cell_type": "markdown",
      "source": [
        "\n",
        "\n",
        "# 오픈소스 기반 데이터 분석 4강 - 데이터 수집\n"
      ],
      "metadata": {
        "id": "DkPKaAsoRq5Q"
      }
    },
    {
      "cell_type": "markdown",
      "source": [
        "## 4-1 CSV 파일 읽기"
      ],
      "metadata": {
        "id": "-I7BVVlnRrB0"
      }
    },
    {
      "cell_type": "code",
      "source": [
        "import pandas as pd\n",
        "\n",
        "## data.csv 파일 읽기\n",
        "df = pd.read_csv('data.csv', encoding='utf-8',sep=',', header=0,\n",
        "                 index_col=None, skiprows=None, nrows=None)\n",
        "\n",
        "print(df)"
      ],
      "metadata": {
        "id": "2Y2HEiaiRwAI",
        "outputId": "6573ab91-a750-4dda-9c46-3cd5e07cc4b0",
        "colab": {
          "base_uri": "https://localhost:8080/"
        }
      },
      "execution_count": 3,
      "outputs": [
        {
          "output_type": "stream",
          "name": "stdout",
          "text": [
            "           날짜    체중  골격근량  체지방량\n",
            "0  2025.02.06  64.7  30.0  11.1\n",
            "1  2025.02.04  64.0  29.3  11.6\n"
          ]
        }
      ]
    },
    {
      "cell_type": "markdown",
      "source": [
        "## 4-2 JSON 파일 읽기\n",
        "\n"
      ],
      "metadata": {
        "id": "9kHCFaGlRrE0"
      }
    },
    {
      "cell_type": "code",
      "source": [
        "import json\n",
        "import pandas as pd\n",
        "\n",
        "## data.json 파일 출력\n",
        "with open('data.json', mode='r', encoding='utf-8') as f:\n",
        "    data = json.load(f)\n",
        "print(data)\n",
        "\n",
        "## data.json 파일 DataFrame 읽기\n",
        "df = pd.read_json('data.json', orient='records', encoding='utf-8', lines=False)\n",
        "\n",
        "print(df)"
      ],
      "metadata": {
        "id": "IO8bsKekR0W_",
        "outputId": "730348c6-c1f5-4161-9ad8-a653b96440c6",
        "colab": {
          "base_uri": "https://localhost:8080/"
        }
      },
      "execution_count": 9,
      "outputs": [
        {
          "output_type": "stream",
          "name": "stdout",
          "text": [
            "{'매출데이터': [{'월': '2025-01', '매출액': 1000000, '비용': 700000, '이익': 300000}, {'월': '2025-02', '매출액': 1200000, '비용': 800000, '이익': 400000}, {'월': '2025-03', '매출액': 1500000, '비용': 900000, '이익': 600000}]}\n",
            "                                               매출데이터\n",
            "0  {'월': '2025-01', '매출액': 1000000, '비용': 700000,...\n",
            "1  {'월': '2025-02', '매출액': 1200000, '비용': 800000,...\n",
            "2  {'월': '2025-03', '매출액': 1500000, '비용': 900000,...\n"
          ]
        }
      ]
    },
    {
      "cell_type": "markdown",
      "source": [
        "## 4-3 텍스트 파일 읽기 및 데이터 추출"
      ],
      "metadata": {
        "id": "uLd_3A_IRrHG"
      }
    },
    {
      "cell_type": "code",
      "source": [
        "import re\n",
        "\n",
        "## 파일(callcenter20250301.log) 오픈 및 읽기\n",
        "with open('callcenter20250301.log', 'r', encoding='utf-8') as f:\n",
        "    content = f.read()\n",
        "## 주민등록번호 패턴 생성\n",
        "pattern = re.compile(r'(\\d{6})-(\\d{7})')\n",
        "\n",
        "## 주민등록번호 마스킹\n",
        "marsked_content = pattern.sub(r'\\1-*******', content)\n",
        "\n",
        "\n",
        "## 마스킹된 파일(callcenter20250301_masked.log) 오픈 및 쓰기\n",
        "with open('callcenter20250301_masked.log.txt', mode='w') as f:\n",
        "    f.write(marsked_content)\n",
        "\n",
        "print(\"주민등록번호 마스킹 완료. 'callcenter20250301_masked.log.txt' 파일로 저장되었습니다.\")"
      ],
      "metadata": {
        "id": "60qOf7uxVdAg",
        "outputId": "84fc0c1d-720f-49d3-e994-7a4fb3183d6b",
        "colab": {
          "base_uri": "https://localhost:8080/"
        }
      },
      "execution_count": 10,
      "outputs": [
        {
          "output_type": "stream",
          "name": "stdout",
          "text": [
            "주민등록번호 마스킹 완료. 'callcenter20250301_masked.log.txt' 파일로 저장되었습니다.\n"
          ]
        }
      ]
    },
    {
      "cell_type": "markdown",
      "source": [
        "## 4-4 Open-Meteo의 무료 날씨 API를 통한 특정 지역 온도 조회"
      ],
      "metadata": {
        "id": "eOMufu5SXiAU"
      }
    },
    {
      "cell_type": "code",
      "source": [
        "import requests\n",
        "import json\n",
        "\n",
        "url = \"https://api.open-meteo.com/v1/forecast?=&=&current=temperature_2m\"\n",
        "params = {\n",
        "    \"latitude\": \"37.58638333\",\n",
        "    \"longitude\": \"127.0203333\",\n",
        "    \"current\": \"temperature_2m\"\n",
        "}\n",
        "\n",
        "try:\n",
        "    ## URL 및 파라미터 전송\n",
        "    response = requests.get(url, params=params)\n",
        "    response.raise_for_status()\n",
        "\n",
        "    ## JSON 데이터 읽기\n",
        "    data = response.json()\n",
        "\n",
        "    print(\"API 응답:\", data)\n",
        "    print(\"서울시 종로구의 현재 온도는 : {0}{1} 입니다.\".format(data['current']['temperature_2m'], data['current_units']['temperature_2m']))\n",
        "\n",
        "except requests.exceptions.RequestException as e:\n",
        "    print(f\"API 호출 실패: {e}\")\n",
        "except json.JSONDecodeError as e:\n",
        "    print(f\"JSON 파싱 실패: {e}\")"
      ],
      "metadata": {
        "id": "JpmgdsW9V0CY",
        "outputId": "0bcf18ec-a96e-4410-e90d-29027a169f21",
        "colab": {
          "base_uri": "https://localhost:8080/"
        }
      },
      "execution_count": 11,
      "outputs": [
        {
          "output_type": "stream",
          "name": "stdout",
          "text": [
            "API 응답: {'latitude': 37.6, 'longitude': 127.0, 'generationtime_ms': 0.021338462829589844, 'utc_offset_seconds': 0, 'timezone': 'GMT', 'timezone_abbreviation': 'GMT', 'elevation': 29.0, 'current_units': {'time': 'iso8601', 'interval': 'seconds', 'temperature_2m': '°C'}, 'current': {'time': '2025-10-07T04:15', 'interval': 900, 'temperature_2m': 20.0}}\n",
            "서울시 종로구의 현재 온도는 : 20.0°C 입니다.\n"
          ]
        }
      ]
    },
    {
      "cell_type": "markdown",
      "source": [
        "## 4-5 Selenium과 lxml을 이용한 웹 스크래핑"
      ],
      "metadata": {
        "id": "RLfPaa1ZiqIC"
      }
    },
    {
      "cell_type": "code",
      "source": [
        "!curl -o google-chrome-stable_current_amd64.deb https://dl.google.com/linux/direct/google-chrome-stable_current_amd64.deb\n",
        "!apt install ./google-chrome-stable_current_amd64.deb -y\n",
        "!pip install selenium webdriver_manager"
      ],
      "metadata": {
        "id": "79dmM7MNk8pB",
        "outputId": "cd741bff-8200-490a-9352-0ff221aa361e",
        "colab": {
          "base_uri": "https://localhost:8080/"
        }
      },
      "execution_count": 12,
      "outputs": [
        {
          "output_type": "stream",
          "name": "stdout",
          "text": [
            "  % Total    % Received % Xferd  Average Speed   Time    Time     Time  Current\n",
            "                                 Dload  Upload   Total   Spent    Left  Speed\n",
            "100  114M  100  114M    0     0   155M      0 --:--:-- --:--:-- --:--:--  155M\n",
            "Reading package lists... Done\n",
            "Building dependency tree... Done\n",
            "Reading state information... Done\n",
            "Note, selecting 'google-chrome-stable' instead of './google-chrome-stable_current_amd64.deb'\n",
            "The following additional packages will be installed:\n",
            "  libvulkan1 mesa-vulkan-drivers\n",
            "The following NEW packages will be installed:\n",
            "  google-chrome-stable libvulkan1 mesa-vulkan-drivers\n",
            "0 upgraded, 3 newly installed, 0 to remove and 38 not upgraded.\n",
            "Need to get 10.9 MB/131 MB of archives.\n",
            "After this operation, 448 MB of additional disk space will be used.\n",
            "Get:1 http://archive.ubuntu.com/ubuntu jammy/main amd64 libvulkan1 amd64 1.3.204.1-2 [128 kB]\n",
            "Get:2 http://archive.ubuntu.com/ubuntu jammy-updates/main amd64 mesa-vulkan-drivers amd64 23.2.1-1ubuntu3.1~22.04.3 [10.7 MB]\n",
            "Get:3 /content/google-chrome-stable_current_amd64.deb google-chrome-stable amd64 141.0.7390.54-1 [121 MB]\n",
            "Fetched 10.9 MB in 1s (8,171 kB/s)\n",
            "Selecting previously unselected package libvulkan1:amd64.\n",
            "(Reading database ... 126675 files and directories currently installed.)\n",
            "Preparing to unpack .../libvulkan1_1.3.204.1-2_amd64.deb ...\n",
            "Unpacking libvulkan1:amd64 (1.3.204.1-2) ...\n",
            "Selecting previously unselected package google-chrome-stable.\n",
            "Preparing to unpack .../google-chrome-stable_current_amd64.deb ...\n",
            "Unpacking google-chrome-stable (141.0.7390.54-1) ...\n",
            "Selecting previously unselected package mesa-vulkan-drivers:amd64.\n",
            "Preparing to unpack .../mesa-vulkan-drivers_23.2.1-1ubuntu3.1~22.04.3_amd64.deb ...\n",
            "Unpacking mesa-vulkan-drivers:amd64 (23.2.1-1ubuntu3.1~22.04.3) ...\n",
            "Setting up libvulkan1:amd64 (1.3.204.1-2) ...\n",
            "Setting up mesa-vulkan-drivers:amd64 (23.2.1-1ubuntu3.1~22.04.3) ...\n",
            "Setting up google-chrome-stable (141.0.7390.54-1) ...\n",
            "update-alternatives: using /usr/bin/google-chrome-stable to provide /usr/bin/x-www-browser (x-www-browser) in auto mode\n",
            "update-alternatives: using /usr/bin/google-chrome-stable to provide /usr/bin/gnome-www-browser (gnome-www-browser) in auto mode\n",
            "update-alternatives: using /usr/bin/google-chrome-stable to provide /usr/bin/google-chrome (google-chrome) in auto mode\n",
            "Processing triggers for man-db (2.10.2-1) ...\n",
            "Processing triggers for mailcap (3.70+nmu1ubuntu1) ...\n",
            "Processing triggers for libc-bin (2.35-0ubuntu3.8) ...\n",
            "/sbin/ldconfig.real: /usr/local/lib/libur_adapter_level_zero_v2.so.0 is not a symbolic link\n",
            "\n",
            "/sbin/ldconfig.real: /usr/local/lib/libtbbmalloc_proxy.so.2 is not a symbolic link\n",
            "\n",
            "/sbin/ldconfig.real: /usr/local/lib/libhwloc.so.15 is not a symbolic link\n",
            "\n",
            "/sbin/ldconfig.real: /usr/local/lib/libtbb.so.12 is not a symbolic link\n",
            "\n",
            "/sbin/ldconfig.real: /usr/local/lib/libtbbmalloc.so.2 is not a symbolic link\n",
            "\n",
            "/sbin/ldconfig.real: /usr/local/lib/libtbbbind_2_0.so.3 is not a symbolic link\n",
            "\n",
            "/sbin/ldconfig.real: /usr/local/lib/libtbbbind_2_5.so.3 is not a symbolic link\n",
            "\n",
            "/sbin/ldconfig.real: /usr/local/lib/libtbbbind.so.3 is not a symbolic link\n",
            "\n",
            "/sbin/ldconfig.real: /usr/local/lib/libur_adapter_level_zero.so.0 is not a symbolic link\n",
            "\n",
            "/sbin/ldconfig.real: /usr/local/lib/libtcm_debug.so.1 is not a symbolic link\n",
            "\n",
            "/sbin/ldconfig.real: /usr/local/lib/libtcm.so.1 is not a symbolic link\n",
            "\n",
            "/sbin/ldconfig.real: /usr/local/lib/libur_adapter_opencl.so.0 is not a symbolic link\n",
            "\n",
            "/sbin/ldconfig.real: /usr/local/lib/libur_loader.so.0 is not a symbolic link\n",
            "\n",
            "/sbin/ldconfig.real: /usr/local/lib/libumf.so.0 is not a symbolic link\n",
            "\n",
            "Collecting selenium\n",
            "  Downloading selenium-4.36.0-py3-none-any.whl.metadata (7.5 kB)\n",
            "Collecting webdriver_manager\n",
            "  Downloading webdriver_manager-4.0.2-py2.py3-none-any.whl.metadata (12 kB)\n",
            "Requirement already satisfied: urllib3<3.0,>=2.5.0 in /usr/local/lib/python3.12/dist-packages (from urllib3[socks]<3.0,>=2.5.0->selenium) (2.5.0)\n",
            "Collecting trio<1.0,>=0.30.0 (from selenium)\n",
            "  Downloading trio-0.31.0-py3-none-any.whl.metadata (8.5 kB)\n",
            "Collecting trio-websocket<1.0,>=0.12.2 (from selenium)\n",
            "  Downloading trio_websocket-0.12.2-py3-none-any.whl.metadata (5.1 kB)\n",
            "Requirement already satisfied: certifi>=2025.6.15 in /usr/local/lib/python3.12/dist-packages (from selenium) (2025.8.3)\n",
            "Requirement already satisfied: typing_extensions<5.0,>=4.14.0 in /usr/local/lib/python3.12/dist-packages (from selenium) (4.15.0)\n",
            "Requirement already satisfied: websocket-client<2.0,>=1.8.0 in /usr/local/lib/python3.12/dist-packages (from selenium) (1.8.0)\n",
            "Requirement already satisfied: requests in /usr/local/lib/python3.12/dist-packages (from webdriver_manager) (2.32.4)\n",
            "Requirement already satisfied: python-dotenv in /usr/local/lib/python3.12/dist-packages (from webdriver_manager) (1.1.1)\n",
            "Requirement already satisfied: packaging in /usr/local/lib/python3.12/dist-packages (from webdriver_manager) (25.0)\n",
            "Requirement already satisfied: attrs>=23.2.0 in /usr/local/lib/python3.12/dist-packages (from trio<1.0,>=0.30.0->selenium) (25.3.0)\n",
            "Requirement already satisfied: sortedcontainers in /usr/local/lib/python3.12/dist-packages (from trio<1.0,>=0.30.0->selenium) (2.4.0)\n",
            "Requirement already satisfied: idna in /usr/local/lib/python3.12/dist-packages (from trio<1.0,>=0.30.0->selenium) (3.10)\n",
            "Collecting outcome (from trio<1.0,>=0.30.0->selenium)\n",
            "  Downloading outcome-1.3.0.post0-py2.py3-none-any.whl.metadata (2.6 kB)\n",
            "Requirement already satisfied: sniffio>=1.3.0 in /usr/local/lib/python3.12/dist-packages (from trio<1.0,>=0.30.0->selenium) (1.3.1)\n",
            "Collecting wsproto>=0.14 (from trio-websocket<1.0,>=0.12.2->selenium)\n",
            "  Downloading wsproto-1.2.0-py3-none-any.whl.metadata (5.6 kB)\n",
            "Requirement already satisfied: pysocks!=1.5.7,<2.0,>=1.5.6 in /usr/local/lib/python3.12/dist-packages (from urllib3[socks]<3.0,>=2.5.0->selenium) (1.7.1)\n",
            "Requirement already satisfied: charset_normalizer<4,>=2 in /usr/local/lib/python3.12/dist-packages (from requests->webdriver_manager) (3.4.3)\n",
            "Requirement already satisfied: h11<1,>=0.9.0 in /usr/local/lib/python3.12/dist-packages (from wsproto>=0.14->trio-websocket<1.0,>=0.12.2->selenium) (0.16.0)\n",
            "Downloading selenium-4.36.0-py3-none-any.whl (9.6 MB)\n",
            "\u001b[2K   \u001b[90m━━━━━━━━━━━━━━━━━━━━━━━━━━━━━━━━━━━━━━━━\u001b[0m \u001b[32m9.6/9.6 MB\u001b[0m \u001b[31m20.0 MB/s\u001b[0m eta \u001b[36m0:00:00\u001b[0m\n",
            "\u001b[?25hDownloading webdriver_manager-4.0.2-py2.py3-none-any.whl (27 kB)\n",
            "Downloading trio-0.31.0-py3-none-any.whl (512 kB)\n",
            "\u001b[2K   \u001b[90m━━━━━━━━━━━━━━━━━━━━━━━━━━━━━━━━━━━━━━━━\u001b[0m \u001b[32m512.7/512.7 kB\u001b[0m \u001b[31m12.4 MB/s\u001b[0m eta \u001b[36m0:00:00\u001b[0m\n",
            "\u001b[?25hDownloading trio_websocket-0.12.2-py3-none-any.whl (21 kB)\n",
            "Downloading outcome-1.3.0.post0-py2.py3-none-any.whl (10 kB)\n",
            "Downloading wsproto-1.2.0-py3-none-any.whl (24 kB)\n",
            "Installing collected packages: wsproto, outcome, webdriver_manager, trio, trio-websocket, selenium\n",
            "Successfully installed outcome-1.3.0.post0 selenium-4.36.0 trio-0.31.0 trio-websocket-0.12.2 webdriver_manager-4.0.2 wsproto-1.2.0\n"
          ]
        }
      ]
    },
    {
      "cell_type": "code",
      "source": [
        "from selenium import webdriver\n",
        "from selenium.webdriver.chrome.service import Service as ChromeService\n",
        "from webdriver_manager.chrome import ChromeDriverManager\n",
        "from selenium.webdriver.common.by import By\n",
        "from lxml import html\n",
        "import time\n",
        "\n",
        "chrome_options = webdriver.ChromeOptions()\n",
        "chrome_options.add_argument('--headless')               # 브라우저 창 없이 실행\n",
        "chrome_options.add_argument('--no-sandbox')             # 보안모드 비활성화 (Colab 필수)\n",
        "chrome_options.add_argument('--disable-dev-shm-usage')  # 메모리 부족 방지 (Colab 필수)\n",
        "chrome_options.add_argument('--window-size=1920x1080')  # 창 크기 설정(가상)\n",
        "chrome_options.add_argument('--disable-gpu')            # GPU 가속 비활성화 (일부 환경 안정성)\n",
        "chrome_options.binary_location = \"/usr/bin/google-chrome-stable\"  # Colab용 크롬 경로 지정\n",
        "\n",
        "## 드라이버 실행\n",
        "driver = webdriver.Chrome(options=chrome_options)\n",
        "\n",
        "## 사이트 접속\n",
        "url = 'https://curiousweek.tistory.com/357'\n",
        "driver.get(url)\n",
        "\n",
        "## 사이트 접속 대기\n",
        "time.sleep(2)\n",
        "\n",
        "## 페이지 제목 출력\n",
        "page_source = driver.page_source\n",
        "tree = html.fromstring(page_source)\n",
        "\n",
        "title_text = tree.xpath('//title/text()')\n",
        "print(title_text)\n",
        "\n",
        "## 드라이버 종료\n",
        "driver.quit()"
      ],
      "metadata": {
        "id": "cRC8x3_iW0im",
        "outputId": "137e3f35-0ac1-48d4-ad5e-e041d66f5200",
        "colab": {
          "base_uri": "https://localhost:8080/"
        }
      },
      "execution_count": 15,
      "outputs": [
        {
          "output_type": "stream",
          "name": "stdout",
          "text": [
            "['데이터 수집']\n"
          ]
        }
      ]
    },
    {
      "cell_type": "markdown",
      "source": [
        "\n",
        "# 실습 시나리오"
      ],
      "metadata": {
        "id": "Bu6OMZyGirOq"
      }
    },
    {
      "cell_type": "markdown",
      "source": [
        "## 공공데이터 포털 가입 및 데이터 신청\n",
        "\n",
        "- [https://www.data.go.kr](https://www.data.go.kr)\n",
        "- 한국환경공단 에어코리아 대기오염정보 데이터 신청\n",
        "#### 현재 공공 데이터 사용 불가로 경기 데이터 드림의 데이터 이용함."
      ],
      "metadata": {
        "id": "nsuqRN9RkZlW"
      }
    },
    {
      "cell_type": "code",
      "source": [
        "import requests\n",
        "\n",
        "## 데이터 수집 url 및 api key 설정\n",
        "url = 'https://openapi.gg.go.kr/RegionMnyFacltStus'\n",
        "api_key = 'c79d'\n",
        "\n",
        "# params = {\n",
        "#     'serviceKey': api_key,\n",
        "#     'returnType': 'json',\n",
        "#     'numOfRows': '100',\n",
        "#     'pageNo': '1',\n",
        "#     'sidoName': '서울',\n",
        "#     'ver': '1.0'\n",
        "# }\n",
        "params = {\n",
        "    'KEY': api_key,\n",
        "    'Type': 'json',\n",
        "    'pIndex': 1,\n",
        "    'pSize': 10\n",
        "}\n",
        "\n",
        "## 데이터 수집\n",
        "response = requests.get(url, params=params)\n",
        "\n",
        "## 호출 성공/실패 출력\n",
        "print(response.json())\n"
      ],
      "metadata": {
        "id": "7yCozmQeXJcO",
        "outputId": "195b7d2b-1d94-4e87-a1b8-b323fe79bc14",
        "colab": {
          "base_uri": "https://localhost:8080/"
        }
      },
      "execution_count": 19,
      "outputs": [
        {
          "output_type": "stream",
          "name": "stdout",
          "text": [
            "{'RegionMnyFacltStus': [{'head': [{'list_total_count': 408991}, {'RESULT': {'CODE': 'INFO-000', 'MESSAGE': '정상 처리되었습니다.'}}, {'api_version': '1.0'}]}, {'row': [{'CMPNM_NM': '메인호프', 'INDUTYPE_NM': '일반주점/일반주점', 'REFINE_LOTNO_ADDR': '경기도 부천시 오정구 오정동 579-9번지 1층', 'REFINE_ROADNM_ADDR': '경기도 부천시 오정구 오정로220번길 20', 'REFINE_ZIPNO': '14437', 'REFINE_WGS84_LOGT': '126.7847214592', 'REFINE_WGS84_LAT': '37.5272154591', 'SIGUN_NM': '부천시', 'BIZREGNO': '1303257542', 'INDUTYPE_CD': '2601', 'FRCS_NO': '931975163', 'LEAD_TAX_MAN_STATE': '계속사업자', 'CLSBIZ_DAY': None, 'LEAD_TAX_MAN_STATE_CD': '01'}, {'CMPNM_NM': '홈 (HOME)', 'INDUTYPE_NM': '커피전문점/커피전문점', 'REFINE_LOTNO_ADDR': '경기도 부천시 원미구 중동 1103번지 상가동 114호,115호 꿈마을', 'REFINE_ROADNM_ADDR': '경기도 부천시 원미구 옥산로 71', 'REFINE_ZIPNO': '14550', 'REFINE_WGS84_LOGT': '126.7806944957', 'REFINE_WGS84_LAT': '37.4998892281', 'SIGUN_NM': '부천시', 'BIZREGNO': '4191000877', 'INDUTYPE_CD': '2502', 'FRCS_NO': '990345274', 'LEAD_TAX_MAN_STATE': '계속사업자', 'CLSBIZ_DAY': None, 'LEAD_TAX_MAN_STATE_CD': '01'}, {'CMPNM_NM': '서경화학', 'INDUTYPE_NM': '실내장식인테리어/실내장식인테리어', 'REFINE_LOTNO_ADDR': '경기도 부천시 원미구 상동 499-2번지 부천자동차백화점 111호', 'REFINE_ROADNM_ADDR': '경기도 부천시 원미구 평천로 597', 'REFINE_ZIPNO': '14503', 'REFINE_WGS84_LOGT': '126.7572529215', 'REFINE_WGS84_LAT': '37.5159323285', 'SIGUN_NM': '부천시', 'BIZREGNO': '3863400141', 'INDUTYPE_CD': '3405', 'FRCS_NO': '980675656', 'LEAD_TAX_MAN_STATE': '계속사업자', 'CLSBIZ_DAY': None, 'LEAD_TAX_MAN_STATE_CD': '01'}, {'CMPNM_NM': '나토얀', 'INDUTYPE_NM': '기타가정.주방용품/기타가정.주방용품', 'REFINE_LOTNO_ADDR': '경기도 부천시 오정구 원종동 298번지 4동 101호', 'REFINE_ROADNM_ADDR': '경기도 부천시 오정구 고강로40번길 55', 'REFINE_ZIPNO': '14414', 'REFINE_WGS84_LOGT': '126.8094995001', 'REFINE_WGS84_LAT': '37.5279758478', 'SIGUN_NM': '부천시', 'BIZREGNO': '4442801106', 'INDUTYPE_CD': '3302', 'FRCS_NO': '906226551', 'LEAD_TAX_MAN_STATE': '계속사업자', 'CLSBIZ_DAY': None, 'LEAD_TAX_MAN_STATE_CD': '01'}, {'CMPNM_NM': '열린인테리어', 'INDUTYPE_NM': '기타건축자재/기타건축자재', 'REFINE_LOTNO_ADDR': '경기도 부천시 원미구 상동 500-5번지 다정한마을 상가동 105호', 'REFINE_ROADNM_ADDR': '경기도 부천시 원미구 도약로 81', 'REFINE_ZIPNO': '14506', 'REFINE_WGS84_LOGT': '126.7580312963', 'REFINE_WGS84_LAT': '37.5127464604', 'SIGUN_NM': '부천시', 'BIZREGNO': '4087700074', 'INDUTYPE_CD': '3403', 'FRCS_NO': '982580805', 'LEAD_TAX_MAN_STATE': '계속사업자', 'CLSBIZ_DAY': None, 'LEAD_TAX_MAN_STATE_CD': '01'}, {'CMPNM_NM': '소담유통', 'INDUTYPE_NM': '(기타식음료품/기타식음료품)', 'REFINE_LOTNO_ADDR': '경기도 남양주시 미금로20번길 311, 502호 (다산동,동양아파트)', 'REFINE_ROADNM_ADDR': None, 'REFINE_ZIPNO': None, 'REFINE_WGS84_LOGT': None, 'REFINE_WGS84_LAT': None, 'SIGUN_NM': '남양주시', 'BIZREGNO': '3784900426', 'INDUTYPE_CD': '2105', 'FRCS_NO': '902723494', 'LEAD_TAX_MAN_STATE': '계속사업자', 'CLSBIZ_DAY': None, 'LEAD_TAX_MAN_STATE_CD': '01'}, {'CMPNM_NM': '고래영어 다산캠퍼스 학원', 'INDUTYPE_NM': '(입시학원,보습학원/입시학원,보습학원)', 'REFINE_LOTNO_ADDR': '경기도 남양주시 다산동 6130-4번지 3층 304호', 'REFINE_ROADNM_ADDR': '경기도 남양주시 다산순환로 430', 'REFINE_ZIPNO': '12285', 'REFINE_WGS84_LOGT': '127.1576980491', 'REFINE_WGS84_LAT': '37.6191557968', 'SIGUN_NM': '남양주시', 'BIZREGNO': '6469901809', 'INDUTYPE_CD': '7201', 'FRCS_NO': '922135448', 'LEAD_TAX_MAN_STATE': '계속사업자', 'CLSBIZ_DAY': None, 'LEAD_TAX_MAN_STATE_CD': '01'}, {'CMPNM_NM': '제일우드', 'INDUTYPE_NM': '(기타건축자재/기타건축자재)', 'REFINE_LOTNO_ADDR': '경기도 남양주시 수동면 입석리 514-4번지', 'REFINE_ROADNM_ADDR': '경기도 남양주시 수동면 비룡로 983', 'REFINE_ZIPNO': '12029', 'REFINE_WGS84_LOGT': '127.3131974233', 'REFINE_WGS84_LAT': '37.7197243502', 'SIGUN_NM': '남양주시', 'BIZREGNO': '4915500486', 'INDUTYPE_CD': '3403', 'FRCS_NO': '905352580', 'LEAD_TAX_MAN_STATE': '계속사업자', 'CLSBIZ_DAY': None, 'LEAD_TAX_MAN_STATE_CD': '01'}, {'CMPNM_NM': '쎈박수학전문학원', 'INDUTYPE_NM': '입시학원,보습학원/입시학원,보습학원', 'REFINE_LOTNO_ADDR': '경기도 화성시 능동 1152-3번지 스타타워 401호', 'REFINE_ROADNM_ADDR': '경기도 화성시 10용사로 349-5', 'REFINE_ZIPNO': '18429', 'REFINE_WGS84_LOGT': '127.0561913506', 'REFINE_WGS84_LAT': '37.1995979366', 'SIGUN_NM': '화성시', 'BIZREGNO': '7769601512', 'INDUTYPE_CD': '7201', 'FRCS_NO': '915671979', 'LEAD_TAX_MAN_STATE': '계속사업자', 'CLSBIZ_DAY': None, 'LEAD_TAX_MAN_STATE_CD': '01'}, {'CMPNM_NM': '자연애', 'INDUTYPE_NM': '(일반음식점/일반음식점)', 'REFINE_LOTNO_ADDR': '경기도 남양주시 와부읍 팔당리 320번지 1층', 'REFINE_ROADNM_ADDR': '경기도 남양주시 와부읍 팔당로139번길 22', 'REFINE_ZIPNO': '12277', 'REFINE_WGS84_LOGT': '127.2484160122', 'REFINE_WGS84_LAT': '37.5456625170', 'SIGUN_NM': '남양주시', 'BIZREGNO': '7255700160', 'INDUTYPE_CD': '2301', 'FRCS_NO': '986417350', 'LEAD_TAX_MAN_STATE': '계속사업자', 'CLSBIZ_DAY': None, 'LEAD_TAX_MAN_STATE_CD': '01'}]}]}\n"
          ]
        }
      ]
    }
  ]
}